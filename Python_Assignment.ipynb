{
  "cells": [
    {
      "cell_type": "markdown",
      "metadata": {
        "id": "view-in-github",
        "colab_type": "text"
      },
      "source": [
        "<a href=\"https://colab.research.google.com/github/venkata-sreeram/30-Days-Python/blob/main/Python_Assignment.ipynb\" target=\"_parent\"><img src=\"https://colab.research.google.com/assets/colab-badge.svg\" alt=\"Open In Colab\"/></a>"
      ]
    },
    {
      "cell_type": "markdown",
      "source": [
        "**Q1)Write a function intreverse(n) that takes as input a positive integer n and returns the integer obtained by reversing the digits in n.**"
      ],
      "metadata": {
        "id": "7fF6Y4rq2Shx"
      }
    },
    {
      "cell_type": "code",
      "source": [
        "def intreverse(n):\n",
        "    last=0\n",
        "    rev=0\n",
        "    while ( n > 0 ):\n",
        "        last = n % 10\n",
        "        n = n // 10\n",
        "        rev = (rev * 10) + last\n",
        "    return rev\n",
        "\n",
        "x=int(input(\"Enter number: \"))\n",
        "r=intreverse(x)\n",
        "print(r)"
      ],
      "metadata": {
        "colab": {
          "base_uri": "https://localhost:8080/"
        },
        "id": "RBSeC8LK2YZd",
        "outputId": "4aeba24d-85b2-4c0e-9371-357246dfe894"
      },
      "execution_count": 59,
      "outputs": [
        {
          "output_type": "stream",
          "name": "stdout",
          "text": [
            "Enter number: 783\n",
            "387\n"
          ]
        }
      ]
    },
    {
      "cell_type": "markdown",
      "source": [
        "**Q2)Write a function matched(s) that takes as input a string “s” and checks if the brackets \"(\" and \")\" in “s” are matched: that is, every \"(\" has a matching \")\" after it and every \")\" has a matching \"(\" before it.  Your function should ignore all other symbols that appear in s.  Your function should return True if s has matched brackets and False if it does not.**"
      ],
      "metadata": {
        "id": "WAFN2jtl26AR"
      }
    },
    {
      "cell_type": "code",
      "source": [
        "def matched(s):\n",
        "  brackets_counter = 0\n",
        "  i = 0\n",
        "  while brackets_counter >= 0 and i < len(s):\n",
        "    if s[i] == '(':\n",
        "      brackets_counter += 1\n",
        "    elif s[i] == ')':\n",
        "      brackets_counter -= 1\n",
        "    i += 1\n",
        "  if brackets_counter == 0:\n",
        "    return True\n",
        "  else:\n",
        "    return False\n",
        "print(matched(\"zb%78\"))\n",
        "print(matched(\"(7)(a\"))\n",
        "print(matched(\"a)*(?\"))\n",
        "print(matched(\"((jkl)78(A)&l(8(dd(FJI:),):)?)\"))\n"
      ],
      "metadata": {
        "colab": {
          "base_uri": "https://localhost:8080/"
        },
        "id": "s_UBiBbx2_bX",
        "outputId": "d82cfd94-146d-4af6-d431-3b64f1daecc5"
      },
      "execution_count": 52,
      "outputs": [
        {
          "output_type": "stream",
          "name": "stdout",
          "text": [
            "True\n",
            "False\n",
            "False\n",
            "True\n"
          ]
        }
      ]
    },
    {
      "cell_type": "markdown",
      "source": [
        "**Q3)Write a function sumprimes(l) that takes as input a list of integers and returns the sum of all the prime numbers in l.**"
      ],
      "metadata": {
        "id": "8N9ZK6Lw3Cts"
      }
    },
    {
      "cell_type": "code",
      "source": [
        "def sumprimes(I):\n",
        "  def check_prime(number):\n",
        "    if number < 2:\n",
        "      return False\n",
        "    for i in range(2, int(number ** 0.5) + 1):\n",
        "      if not number % i:\n",
        "        return False\n",
        "    return True\n",
        "  total = 0\n",
        "  for i in I:\n",
        "    if check_prime(i):\n",
        "      total += i\n",
        "  return total\n",
        "print(sumprimes([-3,1,6]))\n",
        "print(sumprimes([2,4,6,9,11]))\n",
        "print(sumprimes([3,3,1,13]))\n"
      ],
      "metadata": {
        "colab": {
          "base_uri": "https://localhost:8080/"
        },
        "id": "LnIuZ4Yv3LGB",
        "outputId": "9657f567-4394-44f0-de55-115eda3a2d58"
      },
      "execution_count": 10,
      "outputs": [
        {
          "output_type": "stream",
          "name": "stdout",
          "text": [
            "0\n",
            "13\n",
            "19\n"
          ]
        }
      ]
    },
    {
      "cell_type": "markdown",
      "source": [
        "**Q4)Define a Python function \"descending(l)\" that returns True if each element in its input list is at most as big as the one before it**"
      ],
      "metadata": {
        "id": "MnShQZNc5Mo0"
      }
    },
    {
      "cell_type": "code",
      "source": [
        "def descending(l):\n",
        "  a=True\n",
        "  if l==[]:\n",
        "    return True\n",
        "  for x in range(0,len(l)-1):\n",
        "    if l[x]<l[x+1]:\n",
        "        a=False\n",
        "        break\n",
        "     \n",
        "\n",
        "  return a\n",
        "\n",
        "print(descending([]))\n",
        "print(descending([4,4,3,2]))\n",
        "print(descending([19,17,18,7]))\n"
      ],
      "metadata": {
        "colab": {
          "base_uri": "https://localhost:8080/"
        },
        "id": "kCKTbJl95RTz",
        "outputId": "c1876ac6-a4ae-47c8-9bd0-6fd1a7a7612d"
      },
      "execution_count": 15,
      "outputs": [
        {
          "output_type": "stream",
          "name": "stdout",
          "text": [
            "True\n",
            "True\n",
            "False\n"
          ]
        }
      ]
    },
    {
      "cell_type": "markdown",
      "source": [
        "**Q5)Define a Python function \"alternating(l)\" that returns True if the values in the input list alternately go up and down (in a strict manner).**"
      ],
      "metadata": {
        "id": "41WkDLTo6Wg7"
      }
    },
    {
      "cell_type": "code",
      "source": [
        "def alternating(li):\n",
        "    l=len(li)\n",
        "    if l==0 or l==1:\n",
        "        return True\n",
        "    if li[0]==li[1]:\n",
        "        return False\n",
        "    elif li[0]>li[1]:         #start-down-up...\n",
        "        for i in range(2,l):\n",
        "            if i%2==0:\n",
        "                if li[i]<=li[i-1]:\n",
        "                    return False\n",
        "            else:\n",
        "                if li[i]>=li[i-1]:\n",
        "                    return False\n",
        "        return True\n",
        "    elif li[0]<li[1]:         #start-up-down...\n",
        "        for i in range(2,l):\n",
        "            if i%2==0:\n",
        "                if li[i]>=li[i-1]:\n",
        "                    return False\n",
        "            else:\n",
        "                if li[i]<=li[i-1]:\n",
        "                    return False\n",
        "        return True\n",
        "\n",
        "print(alternating([]))\n",
        "print(alternating([3,2,3,1,5]))\n",
        "print(alternating([3,2,2,1,5]))\n",
        "print(alternating([3,2,1,3,5]))"
      ],
      "metadata": {
        "colab": {
          "base_uri": "https://localhost:8080/"
        },
        "id": "USrdXp2M6eKT",
        "outputId": "a56757ab-de17-4410-a4f9-c0a4f9433361"
      },
      "execution_count": 19,
      "outputs": [
        {
          "output_type": "stream",
          "name": "stdout",
          "text": [
            "True\n",
            "True\n",
            "False\n",
            "False\n"
          ]
        }
      ]
    },
    {
      "cell_type": "markdown",
      "source": [
        "Q6)A two dimensional matrix can be represented in Python row-wise, as a list of lists: each inner list represents one row of the matrix.  For instance, the matrix\n",
        "1  2  3\n",
        "4  5  6\n",
        "would be represented as [[1,2,3],[4,5,6]].\n",
        "Write a Python function \"matmult(m1,m2)\" that takes as input two matrices using this row-wise representation and returns the matrix product m1 * m2 using the same representation.\n",
        "You may assume that the input matrices are well-formed and have compatible dimensions. "
      ],
      "metadata": {
        "id": "VJrl8GVd7RjO"
      }
    },
    {
      "cell_type": "code",
      "source": [
        "import numpy as np\n",
        "def matmult(m1,m2):\n",
        "  m1 = np.array(m1)\n",
        "  m2 = np.array(m2)\n",
        "  mul = np.matmul(m1,m2)\n",
        "  print(mul.tolist())"
      ],
      "metadata": {
        "id": "vw-D3oYC7V6d"
      },
      "execution_count": 77,
      "outputs": []
    },
    {
      "cell_type": "code",
      "source": [
        "matmult([[1,2,3],[4,5,6]],[[1,4],[2,5],[3,6]])"
      ],
      "metadata": {
        "colab": {
          "base_uri": "https://localhost:8080/"
        },
        "id": "wL8CGer9fT3_",
        "outputId": "40dce15b-6023-4bed-b6f8-c16fab14c3e7"
      },
      "execution_count": 78,
      "outputs": [
        {
          "output_type": "stream",
          "name": "stdout",
          "text": [
            "[[14, 32], [32, 77]]\n"
          ]
        }
      ]
    },
    {
      "cell_type": "markdown",
      "source": [
        "Q7) We represent scores of batsmen across a sequence of matches in a two level dictionary as follows:\n",
        "\n",
        "{'match1':{'player1':57, 'player2':38}, 'match2':{'player3':9, 'player1':42}, 'match3':{'player2':41, 'player4':63, 'player3':91}\n",
        "\n",
        "Each match is identified by a string, as is each player.  The scores are all integers.  The names associated with the matches are not fixed (here they are 'match1','match2','match3'), nor are the names of the players.  A player need not have a score recorded in all matches\n",
        "\n",
        "Define a Python function \"orangecap(d)\" that reads a dictionary d of this form and identifies the player with the highest total score.  Your function should return a pair (playername,topscore) where playername is a string, the name of the player with the highest score, and topscore is an integer, the total score of playername.\n",
        "\n",
        "The input will be such that there are never any ties for highest total score. "
      ],
      "metadata": {
        "id": "uSfm42V59AHy"
      }
    },
    {
      "cell_type": "code",
      "source": [
        "adict = {'match1':{'player1':57, 'player2':38},\n",
        "        'match2':{'player3':9, 'player1':42},\n",
        "        'match3':{'player2':41, 'player4':63, 'player3':91}}\n",
        "\n",
        "def orangecap(dict1):\n",
        "    dict2 = {}\n",
        "    for k1 in dict1:\n",
        "        for k2 in dict1[k1]:\n",
        "            dict2[k2] = dict2.get(k2, 0) + dict1[k1][k2]\n",
        "    player = max(dict2, key=dict2.get)\n",
        "    return player, dict2[player]\n",
        "\n",
        "print (orangecap(adict))\n",
        "adict = {'match1':{'player1':57, 'player2':38},\n",
        "        'match2':{'player3':9, 'player1':42},\n",
        "        'match3':{'player2':41, 'player4':63, 'player3':91}}\n",
        "orangecap({'test1':{'Ashwin':84, 'Kohli':120}, 'test2':{'ashwin':59, 'Pujara':42}})\n",
        "\n"
      ],
      "metadata": {
        "colab": {
          "base_uri": "https://localhost:8080/"
        },
        "id": "ESqk70zH_Qmw",
        "outputId": "76211652-8369-45b6-a61b-6f2fa725ef30"
      },
      "execution_count": 30,
      "outputs": [
        {
          "output_type": "stream",
          "name": "stdout",
          "text": [
            "('player3', 100)\n"
          ]
        },
        {
          "output_type": "execute_result",
          "data": {
            "text/plain": [
              "('Kohli', 120)"
            ]
          },
          "metadata": {},
          "execution_count": 30
        }
      ]
    },
    {
      "cell_type": "markdown",
      "source": [
        "Q8)Let us consider polynomials in a single variable x with integer coefficients: for instance, 3x^4 - 17x^2 - 3x + 5.  Each term of the polynomial can be represented as a pair of integers (coefficient,exponent).  The polynomial itself is then a list of such pairs.\n",
        "We have the following constraints to guarantee that each polynomial has a unique representation:\n",
        "-- Terms are sorted in descending order of exponent\n",
        "-- No term has a zero cofficient\n",
        "-- No two terms have the same exponent\n",
        "-- Exponents are always nonnegative\n",
        "For example, the polynomial introduced earlier is represented as\n",
        "  [(3,4),(-17,2),(-3,1),(5,0)]\n",
        "The zero polynomial, 0, is represented as the empty list [], since it has no terms with nonzero coefficients.\n",
        "\n",
        "Write Python functions for the following operations:\n",
        "\n",
        "addpoly(p1,p2)\n",
        "multpoly(p1,p2)\n",
        "\n",
        "that add and multiply two polynomials, respectively.\n",
        "\n",
        "You may assume that the inputs to these functions follow the representation given above.  Correspondingly, the outputs from these functions should also obey the same constraints.\n",
        "\n",
        "Hint: You are not restricted to writing just the two functions asked for.  You can write auxiliary functions to \"clean up\" polynomials --- e.g., remove zero coefficient terms, combine like terms, sort by exponent etc.  Build a library of functions that can be combined to achieve the desired format.\n",
        "\n",
        "You may also want to convert the list representation to a dictionary representation and manipulate the dictionary representation, and then convert back."
      ],
      "metadata": {
        "id": "HZcQvIyH_yN-"
      }
    },
    {
      "cell_type": "code",
      "source": [
        "def addpoly(p1, p2):\n",
        "    r = []  \n",
        "    for i in range(len(p1)):\n",
        "        \n",
        "        for j in range(len(p2)):\n",
        "            if p1[i][1] == p2[j][1]:\n",
        "                r += [(p1[i][0] + p2[j][0], p1[i][1])]\n",
        "\n",
        "        \n",
        "        for k in range(len(r)):\n",
        "            if r[k][1] == p1[i][1]:\n",
        "                break\n",
        "        else:\n",
        "            r += [p1[i]]\n",
        "\n",
        "    \n",
        "    for j in range(len(p2)):\n",
        "        for k in range(len(r)):\n",
        "            if r[k][1] == p2[j][1]:\n",
        "                break\n",
        "        else:\n",
        "            r += [p2[j]]\n",
        "\n",
        "    r = [(c, e) for (c, e) in r if c != 0]  \n",
        "    r.sort(key= lambda l : l[1], reverse=True) \n",
        "\n",
        "    return r\n",
        "\n",
        "def multpoly(p1, p2):\n",
        "    r = []  \n",
        "\n",
        "  \n",
        "    for i in range(len(p1)):\n",
        "        for j in range(len(p2)):\n",
        "            r = addpoly([(p1[i][0] * p2[j][0], p1[i][1] + p2[j][1])], r)\n",
        "\n",
        "    return r\n",
        "\n",
        "import ast\n",
        "\n",
        "def todict(inp):\n",
        "    inp = ast.literal_eval(inp)\n",
        "    return (inp)\n",
        "\n",
        "def topairoflists(inp):\n",
        "    inp = \"[\"+inp+\"]\"\n",
        "    inp = ast.literal_eval(inp)\n",
        "    return (inp[0],inp[1])\n",
        "\n",
        "fncall = input()\n",
        "lparen = fncall.find(\"(\")\n",
        "rparen = fncall.rfind(\")\")\n",
        "fname = fncall[:lparen]\n",
        "farg = fncall[lparen+1:rparen]\n",
        "\n",
        "if fname == \"orangecap\":\n",
        "   arg = todict(farg)\n",
        "   print(orangecap(arg))\n",
        "elif fname == \"addpoly\":\n",
        "   (arg1,arg2) = topairoflists(farg)\n",
        "   print(addpoly(arg1,arg2))\n",
        "elif fname == \"multpoly\":\n",
        "   (arg1,arg2) = topairoflists(farg)\n",
        "   print(multpoly(arg1,arg2))\n",
        "else:\n",
        "   print(\"Function\", fname, \"unknown\")"
      ],
      "metadata": {
        "colab": {
          "base_uri": "https://localhost:8080/"
        },
        "id": "58iSVx-kAITG",
        "outputId": "ffcabd12-80ec-409a-9854-cb05cc418bae"
      },
      "execution_count": 53,
      "outputs": [
        {
          "output_type": "stream",
          "name": "stdout",
          "text": [
            "addpoly([(4,3),(3,0)],[(-4,3),(2,1)])\n",
            "[(2, 1), (3, 0)]\n"
          ]
        }
      ]
    },
    {
      "cell_type": "markdown",
      "source": [
        "**Q9).Write a Python program to count the frequency of words in a file.**\n",
        "\n"
      ],
      "metadata": {
        "id": "CjjuzzOgIbTY"
      }
    },
    {
      "cell_type": "code",
      "source": [
        "import re\n",
        " \n",
        "frequency = {}\n",
        "document_text = open('assignment python.txt', 'r')\n",
        "text_string = document_text.read().lower()\n",
        "match_pattern = re.findall(r'\\b[a-z]{3,15}\\b', text_string)\n",
        " \n",
        "for word in match_pattern:\n",
        "    count = frequency.get(word,0)\n",
        "    frequency[word] = count + 1\n",
        "     \n",
        "frequency_list = frequency.keys()\n",
        " \n",
        "for words in frequency_list:\n",
        "    print(words, frequency[words])"
      ],
      "metadata": {
        "colab": {
          "base_uri": "https://localhost:8080/"
        },
        "id": "MwD5lb2qIkzN",
        "outputId": "ce8bb4f7-f948-475a-9a7d-8cb0f685b48f"
      },
      "execution_count": 55,
      "outputs": [
        {
          "output_type": "stream",
          "name": "stdout",
          "text": [
            "what 1\n",
            "python 4\n",
            "language 2\n",
            "widely 1\n",
            "used 1\n",
            "high 1\n",
            "level 1\n",
            "general 1\n",
            "purpose 1\n",
            "interpreted 1\n",
            "dynamic 2\n",
            "programming 3\n",
            "its 2\n",
            "design 1\n",
            "philosophy 1\n",
            "emphasizes 1\n",
            "code 2\n",
            "readability 1\n",
            "and 6\n",
            "syntax 1\n",
            "allows 1\n",
            "programmers 1\n",
            "express 1\n",
            "concepts 1\n",
            "fewer 1\n",
            "lines 1\n",
            "than 1\n",
            "possible 1\n",
            "languages 1\n",
            "such 1\n",
            "java 1\n",
            "supports 1\n",
            "multiple 1\n",
            "paradigms 1\n",
            "including 1\n",
            "object 1\n",
            "oriented 1\n",
            "imperative 1\n",
            "functional 1\n",
            "procedural 1\n",
            "styles 1\n",
            "features 1\n",
            "type 1\n",
            "system 1\n",
            "automatic 1\n",
            "memory 1\n",
            "management 1\n",
            "has 1\n",
            "large 1\n",
            "comprehensive 1\n",
            "standard 1\n",
            "library 1\n",
            "the 1\n",
            "best 1\n",
            "way 1\n",
            "learn 1\n",
            "anything 1\n",
            "practice 1\n",
            "exercise 1\n",
            "questions 1\n",
            "have 1\n",
            "started 1\n",
            "this 1\n",
            "section 1\n",
            "for 1\n",
            "those 1\n",
            "beginner 1\n",
            "intermediate 1\n",
            "who 1\n",
            "are 1\n",
            "familiar 1\n",
            "with 1\n"
          ]
        }
      ]
    },
    {
      "cell_type": "markdown",
      "source": [
        "**Q10) Generate two .txt files that have lists of numbers in them, find the numbers that are overlapping. One .txt file has a list of all prime numbers under 1000, and the other .txt file has a list of happy numbers up to 1000.**"
      ],
      "metadata": {
        "id": "Gm4QtouCPkCp"
      }
    },
    {
      "cell_type": "code",
      "source": [
        "def filetolistofints(filename):\n",
        "\tlist_to_return = []\n",
        "\twith open(filename) as f:\n",
        "\t\tline = f.readline()\n",
        "\t\twhile line:\n",
        "\t\t\tlist_to_return.append(int(line))\n",
        "\t\t\tline = f.readline()\n",
        "\treturn list_to_return\n",
        "\n",
        "primeslist = filetolistofints('primenumbers.txt')\n",
        "happieslist = filetolistofints('happynumbers.txt')\n",
        "\n",
        "overlaplist = [elem for elem in primeslist if elem in happieslist]\n",
        "print(overlaplist)"
      ],
      "metadata": {
        "colab": {
          "base_uri": "https://localhost:8080/"
        },
        "id": "-lkl4VmSPp1S",
        "outputId": "39bf3ebd-9cd4-4287-8039-783dbe84ec3e"
      },
      "execution_count": 63,
      "outputs": [
        {
          "output_type": "stream",
          "name": "stdout",
          "text": [
            "[7, 13, 19, 23, 31, 79, 97, 103, 109, 139, 167, 193, 239, 263, 293, 313, 331, 367, 379, 383, 397, 409, 487, 563, 617, 653, 673, 683, 709, 739, 761, 863, 881, 907, 937]\n"
          ]
        }
      ]
    }
  ],
  "metadata": {
    "colab": {
      "collapsed_sections": [],
      "name": "Welcome to Colaboratory",
      "provenance": [],
      "include_colab_link": true
    },
    "kernelspec": {
      "display_name": "Python 3",
      "name": "python3"
    }
  },
  "nbformat": 4,
  "nbformat_minor": 0
}